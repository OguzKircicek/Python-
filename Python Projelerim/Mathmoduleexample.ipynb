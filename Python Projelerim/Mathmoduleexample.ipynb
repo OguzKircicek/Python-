{
 "cells": [
  {
   "cell_type": "code",
   "execution_count": 30,
   "metadata": {
    "collapsed": false
   },
   "outputs": [
    {
     "name": "stdout",
     "output_type": "stream",
     "text": [
      "1.sayi giriniz30\n",
      "2.sayi giriniz50\n",
      "toplam 80 \n",
      "sonuc -20\n",
      "karesi 5.477225575051661\n",
      "Faktöriyel 30414093201713378043612608166064768844377641568960512000000000000 \n",
      "cos degeri 0.15425144988758405\n"
     ]
    }
   ],
   "source": [
    "from math import * \n",
    "sayi=int(input(\"1.sayi giriniz\"))\n",
    "sayi2=int(input(\"2.sayi giriniz\"))\n",
    "\n",
    "math.sqrt(4)\n",
    "\n",
    "def topla(s3,s4):\n",
    "    topla=int(s3+s4)\n",
    "    print(\"toplam {} \".format(topla))\n",
    "\n",
    "def cikar(s1,s2):\n",
    "    cikar=int(s1-s2)\n",
    "    print(\"sonuc {}\".format(cikar))\n",
    "\n",
    "def karekokal(sayi):\n",
    "    r=sqrt(sayi)\n",
    "    print(\"karesi {}\".format(r))\n",
    "\n",
    "def factoriyel(s5):\n",
    "    f=factorial(s5)\n",
    "    print (\"Faktöriyel {} \".format(f))\n",
    "def cosdegeri(s6):\n",
    "    c=cos(s6)\n",
    "    print(\"cos degeri {}\".format(c))\n",
    "\n",
    "topla(sayi,sayi2)\n",
    "cikar(sayi,sayi2)\n",
    "karekokal(sayi)\n",
    "factoriyel(sayi2)\n",
    "cosdegeri(sayi)\n"
   ]
  },
  {
   "cell_type": "code",
   "execution_count": 31,
   "metadata": {
    "collapsed": false
   },
   "outputs": [
    {
     "name": "stdout",
     "output_type": "stream",
     "text": [
      "345\n"
     ]
    }
   ],
   "source": [
    "deger = 345.67\n",
    "truncate2 = trunc(deger)\n",
    "print(truncate2)"
   ]
  },
  {
   "cell_type": "code",
   "execution_count": null,
   "metadata": {
    "collapsed": true
   },
   "outputs": [],
   "source": []
  }
 ],
 "metadata": {
  "anaconda-cloud": {},
  "kernelspec": {
   "display_name": "Python [conda root]",
   "language": "python",
   "name": "conda-root-py"
  },
  "language_info": {
   "codemirror_mode": {
    "name": "ipython",
    "version": 3
   },
   "file_extension": ".py",
   "mimetype": "text/x-python",
   "name": "python",
   "nbconvert_exporter": "python",
   "pygments_lexer": "ipython3",
   "version": "3.5.2"
  }
 },
 "nbformat": 4,
 "nbformat_minor": 2
}
